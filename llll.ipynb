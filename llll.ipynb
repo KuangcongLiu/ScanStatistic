{
 "cells": [
  {
   "cell_type": "code",
   "execution_count": 1,
   "metadata": {
    "collapsed": true
   },
   "outputs": [],
   "source": [
    "import numpy as np\n",
    "import matplotlib.pyplot as plt\n",
    "get_ipython().magic(u'matplotlib inline')\n",
    "import pandas as pd\n",
    "import math\n",
    "import time\n",
    "import os "
   ]
  },
  {
   "cell_type": "code",
   "execution_count": 9,
   "metadata": {
    "collapsed": true
   },
   "outputs": [],
   "source": [
    "def test_stat(x_start,y_start,x_window,y_window,z_score):\n",
    "    \n",
    "    score=np.sum(z_score[y_start:y_start+y_window,x_start:x_start+x_window])/math.sqrt(x_window*y_window)\n",
    "    \n",
    "    return score\n",
    "\n"
   ]
  },
  {
   "cell_type": "code",
   "execution_count": null,
   "metadata": {
    "collapsed": true
   },
   "outputs": [],
   "source": []
  },
  {
   "cell_type": "code",
   "execution_count": 4,
   "metadata": {
    "collapsed": true
   },
   "outputs": [],
   "source": [
    "window_seq_x=np.power(2,range(1,8))\n",
    "window_seq_y=np.power(2,range(1,8))\n",
    "n=1000\n",
    "cluster_x_start=500\n",
    "cluster_x_end=540\n",
    "cluster_y_start=500\n",
    "cluster_y_end=540\n",
    "\n",
    "len_x=cluster_x_end-cluster_x_start\n",
    "len_y=cluster_y_end-cluster_y_start\n",
    "\n",
    "area=len_x*len_y"
   ]
  },
  {
   "cell_type": "code",
   "execution_count": 5,
   "metadata": {
    "collapsed": true
   },
   "outputs": [],
   "source": [
    "n=1000\n",
    "num_obs=int(n/4)\n",
    "np.random.seed(123)\n",
    "X=np.random.randn(n,n,num_obs)#choose n/4 = # of observations per pixel."
   ]
  },
  {
   "cell_type": "code",
   "execution_count": 6,
   "metadata": {
    "collapsed": true
   },
   "outputs": [],
   "source": [
    "cont=20\n",
    "X[cluster_y_start:cluster_y_end,cluster_x_start:cluster_x_end,:]+=1\n",
    "#math.sqrt((2*math.log(n/area))/area)*cont\n",
    "#math.log(n/area)"
   ]
  },
  {
   "cell_type": "code",
   "execution_count": 7,
   "metadata": {},
   "outputs": [],
   "source": [
    "z_score=np.power(np.mean(X,axis=2)/np.std(X,axis=2)*np.sqrt(num_obs),2)\n"
   ]
  },
  {
   "cell_type": "code",
   "execution_count": null,
   "metadata": {
    "collapsed": true
   },
   "outputs": [],
   "source": []
  },
  {
   "cell_type": "code",
   "execution_count": 10,
   "metadata": {},
   "outputs": [
    {
     "name": "stdout",
     "output_type": "stream",
     "text": [
      "(2, 2)\n",
      "(4, 4)\n",
      "(8, 8)\n",
      "(16, 16)\n",
      "(32, 32)\n",
      "(64, 64)\n",
      "(128, 128)\n"
     ]
    }
   ],
   "source": [
    "max_scan=0\n",
    "max_window=None\n",
    "start_idx=None\n",
    "end_idx=None\n",
    "\n",
    "result_dict={}\n",
    "\n",
    "for wx,wy in zip(window_seq_x,window_seq_y):\n",
    "    \n",
    "    print(wx,wy)\n",
    "    scan_stat=np.zeros((n-wx+1,n-wy+1))\n",
    "    for i in range(n-wx+1):\n",
    "        for j in range(n-wy+1):\n",
    "            scan_stat[i,j]=test_stat(i,j,wx,wy,z_score)\n",
    "\n",
    "    \n",
    "    I_hat=np.max(scan_stat)\n",
    "    cluster_idx=np.squeeze(np.where(scan_stat==I_hat))\n",
    "\n",
    "    if max_scan<I_hat:\n",
    "        max_scan=I_hat\n",
    "        max_window=(wx,wy)\n",
    "        start_idx=cluster_idx\n",
    "        end_idx=(cluster_idx[0]+wx-1,cluster_idx[1]+wy-1)\n",
    "        max_scan_stat= scan_stat\n",
    "    \n",
    "    result_dict[str(wx),str(wy)]=(wx,wy,scan_stat,I_hat,cluster_idx)\n",
    "    \n",
    "    \n",
    "  "
   ]
  },
  {
   "cell_type": "code",
   "execution_count": null,
   "metadata": {
    "collapsed": true
   },
   "outputs": [],
   "source": []
  },
  {
   "cell_type": "code",
   "execution_count": 11,
   "metadata": {},
   "outputs": [
    {
     "name": "stdout",
     "output_type": "stream",
     "text": [
      "[506 503]\n",
      "(32, 32)\n",
      "8176.4643863\n"
     ]
    }
   ],
   "source": [
    "print(start_idx)\n",
    "print(max_window)\n",
    "print(max_scan)"
   ]
  },
  {
   "cell_type": "code",
   "execution_count": null,
   "metadata": {
    "collapsed": true
   },
   "outputs": [],
   "source": []
  },
  {
   "cell_type": "code",
   "execution_count": null,
   "metadata": {
    "collapsed": true
   },
   "outputs": [],
   "source": [
    "add_window=max_window[0]/2 #assume square max window\n",
    "\n",
    "while add_window>=2:\n",
    "\n",
    "    direct,add_scan, _ =add(start_idx, max_window, add_window, z_score)\n",
    "    if add_scan<max_scan: \n",
    "        add_window=add_window/2\n",
    "        continue\n",
    "    else:\n",
    "        max_scan=add_scan\n",
    "        add_window=add_window/2\n",
    "        if direct==\"top\":\n",
    "            start_idx[1]=start_idx[1]-add_window\n",
    "            max_window[1]=max_window[1]+add_window\n",
    "        elif direct==\"bottom\":\n",
    "            max_window[1]=max_window[1]+add_window\n",
    "        elif direct==\"left\":\n",
    "            start_idx[0]=start_idx[0]-add_window\n",
    "            max_window[0]=max_window[0]+add_window\n",
    "        else:\n",
    "            max_window[0]=max_window[0]+add_window\n",
    "        \n",
    "        \n",
    "        \n",
    "            "
   ]
  },
  {
   "cell_type": "code",
   "execution_count": null,
   "metadata": {
    "collapsed": true
   },
   "outputs": [],
   "source": []
  },
  {
   "cell_type": "code",
   "execution_count": null,
   "metadata": {
    "collapsed": true
   },
   "outputs": [],
   "source": []
  },
  {
   "cell_type": "code",
   "execution_count": null,
   "metadata": {
    "collapsed": true
   },
   "outputs": [],
   "source": []
  },
  {
   "cell_type": "code",
   "execution_count": null,
   "metadata": {
    "collapsed": true
   },
   "outputs": [],
   "source": [
    "###add top fix x axis\n",
    "\n",
    "x_add=0\n",
    "y_add=8\n",
    "x_window=16\n",
    "y_window=16\n",
    "a=test_stat(500,500-y_add,x_window,y_window+y_add,z_score)\n",
    "\n",
    "\n"
   ]
  },
  {
   "cell_type": "code",
   "execution_count": null,
   "metadata": {
    "collapsed": true
   },
   "outputs": [],
   "source": []
  },
  {
   "cell_type": "code",
   "execution_count": null,
   "metadata": {
    "collapsed": true
   },
   "outputs": [],
   "source": [
    "plt.gray()\n",
    "plt.imshow(a)"
   ]
  },
  {
   "cell_type": "code",
   "execution_count": null,
   "metadata": {
    "collapsed": true
   },
   "outputs": [],
   "source": []
  }
 ],
 "metadata": {
  "kernelspec": {
   "display_name": "Python 2",
   "language": "python",
   "name": "python2"
  },
  "language_info": {
   "codemirror_mode": {
    "name": "ipython",
    "version": 2
   },
   "file_extension": ".py",
   "mimetype": "text/x-python",
   "name": "python",
   "nbconvert_exporter": "python",
   "pygments_lexer": "ipython2",
   "version": "2.7.13"
  }
 },
 "nbformat": 4,
 "nbformat_minor": 2
}
